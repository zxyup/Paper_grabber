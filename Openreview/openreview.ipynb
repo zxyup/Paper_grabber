{
 "cells": [
  {
   "cell_type": "code",
   "execution_count": 1,
   "metadata": {},
   "outputs": [],
   "source": [
    "import openreview\n",
    "import time\n",
    "import sys\n",
    "import tqdm\n",
    "sys.path.append('../')\n",
    "from MDsolver import  mdsolver\n",
    "client = openreview.Client(baseurl='https://api2.openreview.net')"
   ]
  },
  {
   "cell_type": "code",
   "execution_count": 2,
   "metadata": {},
   "outputs": [],
   "source": [
    "class OPsolver(mdsolver):\n",
    "    def __init__(self, filename):  \n",
    "        super().__init__(filename) \n",
    "    \n",
    "    def __del__(self):  \n",
    "        super().__del__()  \n",
    "        \n",
    "    def write_from_opnote(self,sb):\n",
    "        forum=sb.forum\n",
    "        url='https://openreview.net/forum?id='+forum\n",
    "        title=sb.content['title']['value']\n",
    "        keys=sb.content['keywords']['value']\n",
    "        pdf=sb.content['pdf']['value']\n",
    "        abs=sb.content['abstract']['value']\n",
    "        pdf_url='https://openreview.net'+pdf\n",
    "        self.f.write(f'## [{title}]({url}) ------> [PDF]({pdf_url})\\n')\n",
    "        key_s='   '.join(keys)\n",
    "        self.f.write(f'#### Keywords:  {key_s}\\n')\n",
    "        abs.replace(\"\\n\", \" \")  \n",
    "        self.f.write('  Abs:  '+abs+'\\n')\n",
    "        # time.sleep(0.1)\n",
    "        \n",
    "    def over(self):\n",
    "        self.f.close()"
   ]
  },
  {
   "cell_type": "code",
   "execution_count": 3,
   "metadata": {},
   "outputs": [
    {
     "name": "stderr",
     "output_type": "stream",
     "text": [
      "Getting V1 Notes: 100%|█████████▉| 7296/7304 [00:17<00:00, 423.99it/s]"
     ]
    },
    {
     "name": "stdout",
     "output_type": "stream",
     "text": [
      "7304\n"
     ]
    },
    {
     "name": "stderr",
     "output_type": "stream",
     "text": [
      "\n"
     ]
    }
   ],
   "source": [
    "submissions = client.get_all_notes(invitation='ICLR.cc/2024/Conference/-/Submission', details='directReplies')\n",
    "print(len(submissions))"
   ]
  },
  {
   "cell_type": "code",
   "execution_count": 4,
   "metadata": {},
   "outputs": [],
   "source": [
    "op=OPsolver('ICLR2024_PEFT.md')\n"
   ]
  },
  {
   "cell_type": "code",
   "execution_count": 5,
   "metadata": {},
   "outputs": [
    {
     "name": "stdout",
     "output_type": "stream",
     "text": [
      "1 2 3 4 5 6 7 8 9 10 11 12 13 14 15 16 17 18 19 20 \n",
      "21 22 23 24 25 26 27 28 29 30 31 32 33 34 35 36 37 38 39 40 \n",
      "41 42 43 44 45 46 47 48 49 50 51 52 53 54 55 56 57 58 59 60 \n",
      "61 62 63 64 65 66 67 68 69 70 71 72 73 74 75 76 77 78 79 80 \n",
      "81 82 83 84 85 86 87 88 89 90 91 92 93 94 95 96 97 98 99 100 \n",
      "101 102 103 104 105 106 107 108 109 110 111 112 113 114 115 116 117 118 119 120 \n",
      "121 122 123 124 125 126 127 128 129 130 131 132 133 134 135 136 137 138 139 140 \n",
      "141 142 143 144 145 146 147 148 149 150 151 152 153 154 155 156 157 158 159 160 \n",
      "161 162 163 164 165 166 167 168 169 170 171 172 173 174 175 176 177 178 179 180 \n",
      "181 182 183 184 185 186 187 188 189 190 191 192 193 194 195 196 197 198 199 200 \n",
      "201 202 203 204 205 206 207 208 209 210 211 212 213 214 215 216 217 218 219 220 \n",
      "221 222 223 224 225 226 227 228 229 230 231 232 233 234 235 236 237 238 239 240 \n",
      "241 242 243 244 245 246 247 248 249 250 251 252 253 254 255 256 257 258 259 260 \n",
      "261 262 263 264 265 266 267 268 269 270 271 272 273 274 275 276 277 278 279 280 \n",
      "281 282 283 284 285 286 287 288 289 290 291 292 293 294 295 296 297 298 299 299\n"
     ]
    }
   ],
   "source": [
    "i=0\n",
    "for sb in submissions:\n",
    "    keywords=sb.content['keywords']['value']\n",
    "    if any(['parameter'in key.lower() or 'effic'in key.lower() or 'peft' in key.lower() for key in keywords]):\n",
    "        if any(['3d' in key.lower() for key in keywords]) == 0:\n",
    "            i+=1\n",
    "            print(i,end=' ')\n",
    "            if i%20 == 0:\n",
    "                print('')\n",
    "            # print(keywords)\n",
    "            op.write_from_opnote(sb)\n",
    "op.over()\n",
    "print(i)"
   ]
  }
 ],
 "metadata": {
  "kernelspec": {
   "display_name": "ssfn",
   "language": "python",
   "name": "python3"
  },
  "language_info": {
   "codemirror_mode": {
    "name": "ipython",
    "version": 3
   },
   "file_extension": ".py",
   "mimetype": "text/x-python",
   "name": "python",
   "nbconvert_exporter": "python",
   "pygments_lexer": "ipython3",
   "version": "3.10.0"
  }
 },
 "nbformat": 4,
 "nbformat_minor": 2
}
