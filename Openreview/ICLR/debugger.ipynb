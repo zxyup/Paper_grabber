{
 "cells": [
  {
   "cell_type": "code",
   "execution_count": 1,
   "metadata": {},
   "outputs": [],
   "source": [
    "import openreview\n",
    "import time\n",
    "client = openreview.Client(baseurl='https://api2.openreview.net')"
   ]
  },
  {
   "cell_type": "code",
   "execution_count": 2,
   "metadata": {},
   "outputs": [
    {
     "name": "stderr",
     "output_type": "stream",
     "text": [
      "Getting V1 Notes:  14%|█▎        | 1000/7304 [00:02<00:16, 387.49it/s]"
     ]
    },
    {
     "ename": "KeyboardInterrupt",
     "evalue": "",
     "output_type": "error",
     "traceback": [
      "\u001b[0;31m---------------------------------------------------------------------------\u001b[0m",
      "\u001b[0;31mKeyboardInterrupt\u001b[0m                         Traceback (most recent call last)",
      "\u001b[1;32m/home/zxy/Paper_grabber/Openreview/debugger.ipynb 单元格 2\u001b[0m line \u001b[0;36m1\n\u001b[1;32m      <a href='vscode-notebook-cell://ssh-remote%2B7b22686f73744e616d65223a224d41435f32335f41383030227d/home/zxy/Paper_grabber/Openreview/debugger.ipynb#W1sdnNjb2RlLXJlbW90ZQ%3D%3D?line=8'>9</a>\u001b[0m conference_id\u001b[39m=\u001b[39mconference_name \u001b[39m+\u001b[39m \u001b[39m'\u001b[39m\u001b[39m.cc/\u001b[39m\u001b[39m'\u001b[39m \u001b[39m+\u001b[39m conference_year\n\u001b[1;32m     <a href='vscode-notebook-cell://ssh-remote%2B7b22686f73744e616d65223a224d41435f32335f41383030227d/home/zxy/Paper_grabber/Openreview/debugger.ipynb#W1sdnNjb2RlLXJlbW90ZQ%3D%3D?line=9'>10</a>\u001b[0m \u001b[39m# submissions = client.get_all_notes(\u001b[39;00m\n\u001b[1;32m     <a href='vscode-notebook-cell://ssh-remote%2B7b22686f73744e616d65223a224d41435f32335f41383030227d/home/zxy/Paper_grabber/Openreview/debugger.ipynb#W1sdnNjb2RlLXJlbW90ZQ%3D%3D?line=10'>11</a>\u001b[0m \u001b[39m#         invitation=conference_id + '/Conference/-/Submission', details='directReplies')\u001b[39;00m\n\u001b[0;32m---> <a href='vscode-notebook-cell://ssh-remote%2B7b22686f73744e616d65223a224d41435f32335f41383030227d/home/zxy/Paper_grabber/Openreview/debugger.ipynb#W1sdnNjb2RlLXJlbW90ZQ%3D%3D?line=11'>12</a>\u001b[0m submissions \u001b[39m=\u001b[39m client\u001b[39m.\u001b[39;49mget_all_notes(invitation\u001b[39m=\u001b[39;49m\u001b[39m'\u001b[39;49m\u001b[39mICLR.cc/2024/Conference/-/Submission\u001b[39;49m\u001b[39m'\u001b[39;49m, details\u001b[39m=\u001b[39;49m\u001b[39m'\u001b[39;49m\u001b[39mdirectReplies\u001b[39;49m\u001b[39m'\u001b[39;49m)\n\u001b[1;32m     <a href='vscode-notebook-cell://ssh-remote%2B7b22686f73744e616d65223a224d41435f32335f41383030227d/home/zxy/Paper_grabber/Openreview/debugger.ipynb#W1sdnNjb2RlLXJlbW90ZQ%3D%3D?line=12'>13</a>\u001b[0m \u001b[39mprint\u001b[39m(\u001b[39mlen\u001b[39m(submissions))\n",
      "File \u001b[0;32m~/openreview-py/openreview/openreview.py:1181\u001b[0m, in \u001b[0;36mClient.get_all_notes\u001b[0;34m(self, id, paperhash, forum, original, invitation, replyto, tauthor, signature, signatures, writer, trash, number, content, mintcdate, details, sort, select, with_count)\u001b[0m\n\u001b[1;32m   1178\u001b[0m \u001b[39mif\u001b[39;00m with_count:\n\u001b[1;32m   1179\u001b[0m     params[\u001b[39m'\u001b[39m\u001b[39mwith_count\u001b[39m\u001b[39m'\u001b[39m] \u001b[39m=\u001b[39m with_count\n\u001b[0;32m-> 1181\u001b[0m \u001b[39mreturn\u001b[39;00m \u001b[39mlist\u001b[39;49m(tools\u001b[39m.\u001b[39;49mefficient_iterget(\u001b[39mself\u001b[39;49m\u001b[39m.\u001b[39;49mget_notes, desc\u001b[39m=\u001b[39;49m\u001b[39m'\u001b[39;49m\u001b[39mGetting V1 Notes\u001b[39;49m\u001b[39m'\u001b[39;49m, \u001b[39m*\u001b[39;49m\u001b[39m*\u001b[39;49mparams))\n",
      "File \u001b[0;32m~/openreview-py/openreview/tools.py:822\u001b[0m, in \u001b[0;36mefficient_iterget.__next__\u001b[0;34m(self)\u001b[0m\n\u001b[1;32m    820\u001b[0m next_obj \u001b[39m=\u001b[39m \u001b[39mself\u001b[39m\u001b[39m.\u001b[39mcurrent_batch[\u001b[39mself\u001b[39m\u001b[39m.\u001b[39mobj_index]\n\u001b[1;32m    821\u001b[0m \u001b[39mif\u001b[39;00m (\u001b[39mself\u001b[39m\u001b[39m.\u001b[39mobj_index \u001b[39m+\u001b[39m \u001b[39m1\u001b[39m) \u001b[39m==\u001b[39m \u001b[39mlen\u001b[39m(\u001b[39mself\u001b[39m\u001b[39m.\u001b[39mcurrent_batch):\n\u001b[0;32m--> 822\u001b[0m     \u001b[39mself\u001b[39;49m\u001b[39m.\u001b[39;49mupdate_batch()\n\u001b[1;32m    823\u001b[0m     \u001b[39mself\u001b[39m\u001b[39m.\u001b[39mobj_index \u001b[39m=\u001b[39m \u001b[39m0\u001b[39m\n\u001b[1;32m    824\u001b[0m \u001b[39melse\u001b[39;00m:\n",
      "File \u001b[0;32m~/openreview-py/openreview/tools.py:805\u001b[0m, in \u001b[0;36mefficient_iterget.update_batch\u001b[0;34m(self)\u001b[0m\n\u001b[1;32m    803\u001b[0m \u001b[39mself\u001b[39m\u001b[39m.\u001b[39mparams[\u001b[39m'\u001b[39m\u001b[39mafter\u001b[39m\u001b[39m'\u001b[39m] \u001b[39m=\u001b[39m after\n\u001b[1;32m    804\u001b[0m \u001b[39mself\u001b[39m\u001b[39m.\u001b[39mparams[\u001b[39m'\u001b[39m\u001b[39mwith_count\u001b[39m\u001b[39m'\u001b[39m] \u001b[39m=\u001b[39m \u001b[39mFalse\u001b[39;00m\n\u001b[0;32m--> 805\u001b[0m next_batch \u001b[39m=\u001b[39m \u001b[39mself\u001b[39;49m\u001b[39m.\u001b[39;49mget_function(\u001b[39m*\u001b[39;49m\u001b[39m*\u001b[39;49m\u001b[39mself\u001b[39;49m\u001b[39m.\u001b[39;49mparams)\n\u001b[1;32m    806\u001b[0m \u001b[39mif\u001b[39;00m next_batch:\n\u001b[1;32m    807\u001b[0m     \u001b[39mself\u001b[39m\u001b[39m.\u001b[39mcurrent_batch \u001b[39m=\u001b[39m next_batch\n",
      "File \u001b[0;32m~/openreview-py/openreview/openreview.py:1062\u001b[0m, in \u001b[0;36mClient.get_notes\u001b[0;34m(self, id, paperhash, forum, original, invitation, replyto, tauthor, signature, signatures, writer, trash, number, content, limit, offset, after, mintcdate, details, sort, with_count, select)\u001b[0m\n\u001b[1;32m   1059\u001b[0m params[\u001b[39m'\u001b[39m\u001b[39msort\u001b[39m\u001b[39m'\u001b[39m] \u001b[39m=\u001b[39m sort\n\u001b[1;32m   1060\u001b[0m params[\u001b[39m'\u001b[39m\u001b[39moriginal\u001b[39m\u001b[39m'\u001b[39m] \u001b[39m=\u001b[39m original\n\u001b[0;32m-> 1062\u001b[0m response \u001b[39m=\u001b[39m \u001b[39mself\u001b[39;49m\u001b[39m.\u001b[39;49msession\u001b[39m.\u001b[39;49mget(\u001b[39mself\u001b[39;49m\u001b[39m.\u001b[39;49mnotes_url, params\u001b[39m=\u001b[39;49mtools\u001b[39m.\u001b[39;49mformat_params(params), headers\u001b[39m=\u001b[39;49m\u001b[39mself\u001b[39;49m\u001b[39m.\u001b[39;49mheaders)\n\u001b[1;32m   1063\u001b[0m response \u001b[39m=\u001b[39m \u001b[39mself\u001b[39m\u001b[39m.\u001b[39m__handle_response(response)\n\u001b[1;32m   1065\u001b[0m notes \u001b[39m=\u001b[39m [Note\u001b[39m.\u001b[39mfrom_json(n) \u001b[39mfor\u001b[39;00m n \u001b[39min\u001b[39;00m response\u001b[39m.\u001b[39mjson()[\u001b[39m'\u001b[39m\u001b[39mnotes\u001b[39m\u001b[39m'\u001b[39m]]\n",
      "File \u001b[0;32m~/miniconda3/envs/ssfn/lib/python3.10/site-packages/requests/sessions.py:600\u001b[0m, in \u001b[0;36mSession.get\u001b[0;34m(self, url, **kwargs)\u001b[0m\n\u001b[1;32m    592\u001b[0m \u001b[39m\u001b[39m\u001b[39mr\u001b[39m\u001b[39m\"\"\"Sends a GET request. Returns :class:`Response` object.\u001b[39;00m\n\u001b[1;32m    593\u001b[0m \n\u001b[1;32m    594\u001b[0m \u001b[39m:param url: URL for the new :class:`Request` object.\u001b[39;00m\n\u001b[1;32m    595\u001b[0m \u001b[39m:param \\*\\*kwargs: Optional arguments that ``request`` takes.\u001b[39;00m\n\u001b[1;32m    596\u001b[0m \u001b[39m:rtype: requests.Response\u001b[39;00m\n\u001b[1;32m    597\u001b[0m \u001b[39m\"\"\"\u001b[39;00m\n\u001b[1;32m    599\u001b[0m kwargs\u001b[39m.\u001b[39msetdefault(\u001b[39m\"\u001b[39m\u001b[39mallow_redirects\u001b[39m\u001b[39m\"\u001b[39m, \u001b[39mTrue\u001b[39;00m)\n\u001b[0;32m--> 600\u001b[0m \u001b[39mreturn\u001b[39;00m \u001b[39mself\u001b[39;49m\u001b[39m.\u001b[39;49mrequest(\u001b[39m\"\u001b[39;49m\u001b[39mGET\u001b[39;49m\u001b[39m\"\u001b[39;49m, url, \u001b[39m*\u001b[39;49m\u001b[39m*\u001b[39;49mkwargs)\n",
      "File \u001b[0;32m~/miniconda3/envs/ssfn/lib/python3.10/site-packages/requests/sessions.py:587\u001b[0m, in \u001b[0;36mSession.request\u001b[0;34m(self, method, url, params, data, headers, cookies, files, auth, timeout, allow_redirects, proxies, hooks, stream, verify, cert, json)\u001b[0m\n\u001b[1;32m    582\u001b[0m send_kwargs \u001b[39m=\u001b[39m {\n\u001b[1;32m    583\u001b[0m     \u001b[39m\"\u001b[39m\u001b[39mtimeout\u001b[39m\u001b[39m\"\u001b[39m: timeout,\n\u001b[1;32m    584\u001b[0m     \u001b[39m\"\u001b[39m\u001b[39mallow_redirects\u001b[39m\u001b[39m\"\u001b[39m: allow_redirects,\n\u001b[1;32m    585\u001b[0m }\n\u001b[1;32m    586\u001b[0m send_kwargs\u001b[39m.\u001b[39mupdate(settings)\n\u001b[0;32m--> 587\u001b[0m resp \u001b[39m=\u001b[39m \u001b[39mself\u001b[39;49m\u001b[39m.\u001b[39;49msend(prep, \u001b[39m*\u001b[39;49m\u001b[39m*\u001b[39;49msend_kwargs)\n\u001b[1;32m    589\u001b[0m \u001b[39mreturn\u001b[39;00m resp\n",
      "File \u001b[0;32m~/miniconda3/envs/ssfn/lib/python3.10/site-packages/requests/sessions.py:701\u001b[0m, in \u001b[0;36mSession.send\u001b[0;34m(self, request, **kwargs)\u001b[0m\n\u001b[1;32m    698\u001b[0m start \u001b[39m=\u001b[39m preferred_clock()\n\u001b[1;32m    700\u001b[0m \u001b[39m# Send the request\u001b[39;00m\n\u001b[0;32m--> 701\u001b[0m r \u001b[39m=\u001b[39m adapter\u001b[39m.\u001b[39;49msend(request, \u001b[39m*\u001b[39;49m\u001b[39m*\u001b[39;49mkwargs)\n\u001b[1;32m    703\u001b[0m \u001b[39m# Total elapsed time of the request (approximately)\u001b[39;00m\n\u001b[1;32m    704\u001b[0m elapsed \u001b[39m=\u001b[39m preferred_clock() \u001b[39m-\u001b[39m start\n",
      "File \u001b[0;32m~/miniconda3/envs/ssfn/lib/python3.10/site-packages/requests/adapters.py:487\u001b[0m, in \u001b[0;36mHTTPAdapter.send\u001b[0;34m(self, request, stream, timeout, verify, cert, proxies)\u001b[0m\n\u001b[1;32m    484\u001b[0m     timeout \u001b[39m=\u001b[39m TimeoutSauce(connect\u001b[39m=\u001b[39mtimeout, read\u001b[39m=\u001b[39mtimeout)\n\u001b[1;32m    486\u001b[0m \u001b[39mtry\u001b[39;00m:\n\u001b[0;32m--> 487\u001b[0m     resp \u001b[39m=\u001b[39m conn\u001b[39m.\u001b[39;49murlopen(\n\u001b[1;32m    488\u001b[0m         method\u001b[39m=\u001b[39;49mrequest\u001b[39m.\u001b[39;49mmethod,\n\u001b[1;32m    489\u001b[0m         url\u001b[39m=\u001b[39;49murl,\n\u001b[1;32m    490\u001b[0m         body\u001b[39m=\u001b[39;49mrequest\u001b[39m.\u001b[39;49mbody,\n\u001b[1;32m    491\u001b[0m         headers\u001b[39m=\u001b[39;49mrequest\u001b[39m.\u001b[39;49mheaders,\n\u001b[1;32m    492\u001b[0m         redirect\u001b[39m=\u001b[39;49m\u001b[39mFalse\u001b[39;49;00m,\n\u001b[1;32m    493\u001b[0m         assert_same_host\u001b[39m=\u001b[39;49m\u001b[39mFalse\u001b[39;49;00m,\n\u001b[1;32m    494\u001b[0m         preload_content\u001b[39m=\u001b[39;49m\u001b[39mFalse\u001b[39;49;00m,\n\u001b[1;32m    495\u001b[0m         decode_content\u001b[39m=\u001b[39;49m\u001b[39mFalse\u001b[39;49;00m,\n\u001b[1;32m    496\u001b[0m         retries\u001b[39m=\u001b[39;49m\u001b[39mself\u001b[39;49m\u001b[39m.\u001b[39;49mmax_retries,\n\u001b[1;32m    497\u001b[0m         timeout\u001b[39m=\u001b[39;49mtimeout,\n\u001b[1;32m    498\u001b[0m         chunked\u001b[39m=\u001b[39;49mchunked,\n\u001b[1;32m    499\u001b[0m     )\n\u001b[1;32m    501\u001b[0m \u001b[39mexcept\u001b[39;00m (ProtocolError, \u001b[39mOSError\u001b[39;00m) \u001b[39mas\u001b[39;00m err:\n\u001b[1;32m    502\u001b[0m     \u001b[39mraise\u001b[39;00m \u001b[39mConnectionError\u001b[39;00m(err, request\u001b[39m=\u001b[39mrequest)\n",
      "File \u001b[0;32m~/miniconda3/envs/ssfn/lib/python3.10/site-packages/urllib3/connectionpool.py:703\u001b[0m, in \u001b[0;36mHTTPConnectionPool.urlopen\u001b[0;34m(self, method, url, body, headers, retries, redirect, assert_same_host, timeout, pool_timeout, release_conn, chunked, body_pos, **response_kw)\u001b[0m\n\u001b[1;32m    700\u001b[0m     \u001b[39mself\u001b[39m\u001b[39m.\u001b[39m_prepare_proxy(conn)\n\u001b[1;32m    702\u001b[0m \u001b[39m# Make the request on the httplib connection object.\u001b[39;00m\n\u001b[0;32m--> 703\u001b[0m httplib_response \u001b[39m=\u001b[39m \u001b[39mself\u001b[39;49m\u001b[39m.\u001b[39;49m_make_request(\n\u001b[1;32m    704\u001b[0m     conn,\n\u001b[1;32m    705\u001b[0m     method,\n\u001b[1;32m    706\u001b[0m     url,\n\u001b[1;32m    707\u001b[0m     timeout\u001b[39m=\u001b[39;49mtimeout_obj,\n\u001b[1;32m    708\u001b[0m     body\u001b[39m=\u001b[39;49mbody,\n\u001b[1;32m    709\u001b[0m     headers\u001b[39m=\u001b[39;49mheaders,\n\u001b[1;32m    710\u001b[0m     chunked\u001b[39m=\u001b[39;49mchunked,\n\u001b[1;32m    711\u001b[0m )\n\u001b[1;32m    713\u001b[0m \u001b[39m# If we're going to release the connection in ``finally:``, then\u001b[39;00m\n\u001b[1;32m    714\u001b[0m \u001b[39m# the response doesn't need to know about the connection. Otherwise\u001b[39;00m\n\u001b[1;32m    715\u001b[0m \u001b[39m# it will also try to release it and we'll have a double-release\u001b[39;00m\n\u001b[1;32m    716\u001b[0m \u001b[39m# mess.\u001b[39;00m\n\u001b[1;32m    717\u001b[0m response_conn \u001b[39m=\u001b[39m conn \u001b[39mif\u001b[39;00m \u001b[39mnot\u001b[39;00m release_conn \u001b[39melse\u001b[39;00m \u001b[39mNone\u001b[39;00m\n",
      "File \u001b[0;32m~/miniconda3/envs/ssfn/lib/python3.10/site-packages/urllib3/connectionpool.py:449\u001b[0m, in \u001b[0;36mHTTPConnectionPool._make_request\u001b[0;34m(self, conn, method, url, timeout, chunked, **httplib_request_kw)\u001b[0m\n\u001b[1;32m    444\u001b[0m             httplib_response \u001b[39m=\u001b[39m conn\u001b[39m.\u001b[39mgetresponse()\n\u001b[1;32m    445\u001b[0m         \u001b[39mexcept\u001b[39;00m \u001b[39mBaseException\u001b[39;00m \u001b[39mas\u001b[39;00m e:\n\u001b[1;32m    446\u001b[0m             \u001b[39m# Remove the TypeError from the exception chain in\u001b[39;00m\n\u001b[1;32m    447\u001b[0m             \u001b[39m# Python 3 (including for exceptions like SystemExit).\u001b[39;00m\n\u001b[1;32m    448\u001b[0m             \u001b[39m# Otherwise it looks like a bug in the code.\u001b[39;00m\n\u001b[0;32m--> 449\u001b[0m             six\u001b[39m.\u001b[39;49mraise_from(e, \u001b[39mNone\u001b[39;49;00m)\n\u001b[1;32m    450\u001b[0m \u001b[39mexcept\u001b[39;00m (SocketTimeout, BaseSSLError, SocketError) \u001b[39mas\u001b[39;00m e:\n\u001b[1;32m    451\u001b[0m     \u001b[39mself\u001b[39m\u001b[39m.\u001b[39m_raise_timeout(err\u001b[39m=\u001b[39me, url\u001b[39m=\u001b[39murl, timeout_value\u001b[39m=\u001b[39mread_timeout)\n",
      "File \u001b[0;32m<string>:3\u001b[0m, in \u001b[0;36mraise_from\u001b[0;34m(value, from_value)\u001b[0m\n",
      "File \u001b[0;32m~/miniconda3/envs/ssfn/lib/python3.10/site-packages/urllib3/connectionpool.py:444\u001b[0m, in \u001b[0;36mHTTPConnectionPool._make_request\u001b[0;34m(self, conn, method, url, timeout, chunked, **httplib_request_kw)\u001b[0m\n\u001b[1;32m    441\u001b[0m \u001b[39mexcept\u001b[39;00m \u001b[39mTypeError\u001b[39;00m:\n\u001b[1;32m    442\u001b[0m     \u001b[39m# Python 3\u001b[39;00m\n\u001b[1;32m    443\u001b[0m     \u001b[39mtry\u001b[39;00m:\n\u001b[0;32m--> 444\u001b[0m         httplib_response \u001b[39m=\u001b[39m conn\u001b[39m.\u001b[39;49mgetresponse()\n\u001b[1;32m    445\u001b[0m     \u001b[39mexcept\u001b[39;00m \u001b[39mBaseException\u001b[39;00m \u001b[39mas\u001b[39;00m e:\n\u001b[1;32m    446\u001b[0m         \u001b[39m# Remove the TypeError from the exception chain in\u001b[39;00m\n\u001b[1;32m    447\u001b[0m         \u001b[39m# Python 3 (including for exceptions like SystemExit).\u001b[39;00m\n\u001b[1;32m    448\u001b[0m         \u001b[39m# Otherwise it looks like a bug in the code.\u001b[39;00m\n\u001b[1;32m    449\u001b[0m         six\u001b[39m.\u001b[39mraise_from(e, \u001b[39mNone\u001b[39;00m)\n",
      "File \u001b[0;32m~/miniconda3/envs/ssfn/lib/python3.10/http/client.py:1368\u001b[0m, in \u001b[0;36mHTTPConnection.getresponse\u001b[0;34m(self)\u001b[0m\n\u001b[1;32m   1366\u001b[0m \u001b[39mtry\u001b[39;00m:\n\u001b[1;32m   1367\u001b[0m     \u001b[39mtry\u001b[39;00m:\n\u001b[0;32m-> 1368\u001b[0m         response\u001b[39m.\u001b[39;49mbegin()\n\u001b[1;32m   1369\u001b[0m     \u001b[39mexcept\u001b[39;00m \u001b[39mConnectionError\u001b[39;00m:\n\u001b[1;32m   1370\u001b[0m         \u001b[39mself\u001b[39m\u001b[39m.\u001b[39mclose()\n",
      "File \u001b[0;32m~/miniconda3/envs/ssfn/lib/python3.10/http/client.py:317\u001b[0m, in \u001b[0;36mHTTPResponse.begin\u001b[0;34m(self)\u001b[0m\n\u001b[1;32m    315\u001b[0m \u001b[39m# read until we get a non-100 response\u001b[39;00m\n\u001b[1;32m    316\u001b[0m \u001b[39mwhile\u001b[39;00m \u001b[39mTrue\u001b[39;00m:\n\u001b[0;32m--> 317\u001b[0m     version, status, reason \u001b[39m=\u001b[39m \u001b[39mself\u001b[39;49m\u001b[39m.\u001b[39;49m_read_status()\n\u001b[1;32m    318\u001b[0m     \u001b[39mif\u001b[39;00m status \u001b[39m!=\u001b[39m CONTINUE:\n\u001b[1;32m    319\u001b[0m         \u001b[39mbreak\u001b[39;00m\n",
      "File \u001b[0;32m~/miniconda3/envs/ssfn/lib/python3.10/http/client.py:278\u001b[0m, in \u001b[0;36mHTTPResponse._read_status\u001b[0;34m(self)\u001b[0m\n\u001b[1;32m    277\u001b[0m \u001b[39mdef\u001b[39;00m \u001b[39m_read_status\u001b[39m(\u001b[39mself\u001b[39m):\n\u001b[0;32m--> 278\u001b[0m     line \u001b[39m=\u001b[39m \u001b[39mstr\u001b[39m(\u001b[39mself\u001b[39;49m\u001b[39m.\u001b[39;49mfp\u001b[39m.\u001b[39;49mreadline(_MAXLINE \u001b[39m+\u001b[39;49m \u001b[39m1\u001b[39;49m), \u001b[39m\"\u001b[39m\u001b[39miso-8859-1\u001b[39m\u001b[39m\"\u001b[39m)\n\u001b[1;32m    279\u001b[0m     \u001b[39mif\u001b[39;00m \u001b[39mlen\u001b[39m(line) \u001b[39m>\u001b[39m _MAXLINE:\n\u001b[1;32m    280\u001b[0m         \u001b[39mraise\u001b[39;00m LineTooLong(\u001b[39m\"\u001b[39m\u001b[39mstatus line\u001b[39m\u001b[39m\"\u001b[39m)\n",
      "File \u001b[0;32m~/miniconda3/envs/ssfn/lib/python3.10/socket.py:705\u001b[0m, in \u001b[0;36mSocketIO.readinto\u001b[0;34m(self, b)\u001b[0m\n\u001b[1;32m    703\u001b[0m \u001b[39mwhile\u001b[39;00m \u001b[39mTrue\u001b[39;00m:\n\u001b[1;32m    704\u001b[0m     \u001b[39mtry\u001b[39;00m:\n\u001b[0;32m--> 705\u001b[0m         \u001b[39mreturn\u001b[39;00m \u001b[39mself\u001b[39;49m\u001b[39m.\u001b[39;49m_sock\u001b[39m.\u001b[39;49mrecv_into(b)\n\u001b[1;32m    706\u001b[0m     \u001b[39mexcept\u001b[39;00m timeout:\n\u001b[1;32m    707\u001b[0m         \u001b[39mself\u001b[39m\u001b[39m.\u001b[39m_timeout_occurred \u001b[39m=\u001b[39m \u001b[39mTrue\u001b[39;00m\n",
      "File \u001b[0;32m~/miniconda3/envs/ssfn/lib/python3.10/ssl.py:1273\u001b[0m, in \u001b[0;36mSSLSocket.recv_into\u001b[0;34m(self, buffer, nbytes, flags)\u001b[0m\n\u001b[1;32m   1269\u001b[0m     \u001b[39mif\u001b[39;00m flags \u001b[39m!=\u001b[39m \u001b[39m0\u001b[39m:\n\u001b[1;32m   1270\u001b[0m         \u001b[39mraise\u001b[39;00m \u001b[39mValueError\u001b[39;00m(\n\u001b[1;32m   1271\u001b[0m           \u001b[39m\"\u001b[39m\u001b[39mnon-zero flags not allowed in calls to recv_into() on \u001b[39m\u001b[39m%s\u001b[39;00m\u001b[39m\"\u001b[39m \u001b[39m%\u001b[39m\n\u001b[1;32m   1272\u001b[0m           \u001b[39mself\u001b[39m\u001b[39m.\u001b[39m\u001b[39m__class__\u001b[39m)\n\u001b[0;32m-> 1273\u001b[0m     \u001b[39mreturn\u001b[39;00m \u001b[39mself\u001b[39;49m\u001b[39m.\u001b[39;49mread(nbytes, buffer)\n\u001b[1;32m   1274\u001b[0m \u001b[39melse\u001b[39;00m:\n\u001b[1;32m   1275\u001b[0m     \u001b[39mreturn\u001b[39;00m \u001b[39msuper\u001b[39m()\u001b[39m.\u001b[39mrecv_into(buffer, nbytes, flags)\n",
      "File \u001b[0;32m~/miniconda3/envs/ssfn/lib/python3.10/ssl.py:1129\u001b[0m, in \u001b[0;36mSSLSocket.read\u001b[0;34m(self, len, buffer)\u001b[0m\n\u001b[1;32m   1127\u001b[0m \u001b[39mtry\u001b[39;00m:\n\u001b[1;32m   1128\u001b[0m     \u001b[39mif\u001b[39;00m buffer \u001b[39mis\u001b[39;00m \u001b[39mnot\u001b[39;00m \u001b[39mNone\u001b[39;00m:\n\u001b[0;32m-> 1129\u001b[0m         \u001b[39mreturn\u001b[39;00m \u001b[39mself\u001b[39;49m\u001b[39m.\u001b[39;49m_sslobj\u001b[39m.\u001b[39;49mread(\u001b[39mlen\u001b[39;49m, buffer)\n\u001b[1;32m   1130\u001b[0m     \u001b[39melse\u001b[39;00m:\n\u001b[1;32m   1131\u001b[0m         \u001b[39mreturn\u001b[39;00m \u001b[39mself\u001b[39m\u001b[39m.\u001b[39m_sslobj\u001b[39m.\u001b[39mread(\u001b[39mlen\u001b[39m)\n",
      "\u001b[0;31mKeyboardInterrupt\u001b[0m: "
     ]
    },
    {
     "name": "stderr",
     "output_type": "stream",
     "text": [
      "Getting V1 Notes:  27%|██▋       | 1998/7304 [00:19<00:13, 387.49it/s]"
     ]
    }
   ],
   "source": [
    "# 会议名称，建议先在官网上查看下收录会议该年的论文是否已经放出\n",
    "conference_name = 'ICLR'\n",
    "# 会议年份\n",
    "conference_year = '2024'\n",
    "\n",
    "# conference_name = 'NeurIPS'\n",
    "# conference_year = '2022'\n",
    "\n",
    "conference_id=conference_name + '.cc/' + conference_year\n",
    "# submissions = client.get_all_notes(\n",
    "#         invitation=conference_id + '/Conference/-/Submission', details='directReplies')\n",
    "submissions = client.get_all_notes(invitation='ICLR.cc/2024/Conference/-/Submission', details='directReplies')\n",
    "print(len(submissions))"
   ]
  },
  {
   "cell_type": "code",
   "execution_count": 23,
   "metadata": {},
   "outputs": [
    {
     "name": "stdout",
     "output_type": "stream",
     "text": [
      "{'id': 'aU4SaZOeh4', 'forum': 'zzv4Bf50RW', 'replyto': 'zzv4Bf50RW', 'signatures': ['ICLR.cc/2024/Conference/Submission1647/Reviewer_eS3u'], 'nonreaders': [], 'readers': ['everyone'], 'writers': ['ICLR.cc/2024/Conference', 'ICLR.cc/2024/Conference/Submission1647/Reviewer_eS3u'], 'content': {'summary': {'value': 'This work proposes LSTNet, a self-supervised method to establish reliable 3D dense correspondences irrespective of the input point clouds’ rotational orientation.\\n\\nSpecifically, LSTNet learns to formulate SO(3)-invariant local shape transform for each point in a dynamic, input-dependent manner. Each point-wise local shape transform can map the SO(3)-equivariant global shape descriptor of the input shape to a local shape descriptor, which is passed to the decoder to reconstruct the shape and pose of the input point cloud. \\n\\nThe proposed self-supervised training pipeline encourages semantically corresponding points from different shape instances to be mapped to similar local shape descriptors, enabling LSTNet to establish dense point-wise correspondences via nearest point pairs between cross-reconstructed point clouds.'}, 'soundness': {'value': '3 good'}, 'presentation': {'value': '2 fair'}, 'contribution': {'value': '3 good'}, 'strengths': {'value': 'The self- and cross-reconstruction training strategy is simple yet effective. \\n\\nLSTNet demonstrates state-of-the-art performance on 3D semantic matching when evaluated on the KeypointNet dataset and part segmentation label transfer when evaluated on the ShapeNet dataset.'}, 'weaknesses': {'value': 'The performance of aligned shape pairs under the setting of I/I shows that other methods, such as CPAE, are much better than LSTNet.'}, 'questions': {'value': 'The reason why other methods are much better than LSTNet under the setting of I/I should be clarified.\\n\\nLack of limitations.'}, 'flag_for_ethics_review': {'value': ['No ethics review needed.']}, 'rating': {'value': '6: marginally above the acceptance threshold'}, 'confidence': {'value': '2: You are willing to defend your assessment, but it is quite likely that you did not understand the central parts of the submission or that you are unfamiliar with some pieces of related work. Math/other details were not carefully checked.'}, 'code_of_conduct': {'value': 'Yes'}, 'first_time_reviewer': {'value': 'Yes', 'readers': ['ICLR.cc/2024/Conference/Program_Chairs', 'ICLR.cc/2024/Conference/Submission1647/Senior_Area_Chairs', 'ICLR.cc/2024/Conference/Submission1647/Area_Chairs', 'ICLR.cc/2024/Conference/Submission1647/Reviewer_eS3u']}}, 'number': 1, 'invitations': ['ICLR.cc/2024/Conference/Submission1647/-/Official_Review', 'ICLR.cc/2024/Conference/-/Edit'], 'domain': 'ICLR.cc/2024/Conference', 'tcdate': 1698243150596, 'cdate': 1698243150596, 'tmdate': 1699636093263, 'mdate': 1699636093263, 'license': 'CC BY 4.0', 'version': 2}\n",
      "{'id': 'wKVoAVtxek', 'forum': 'zzv4Bf50RW', 'replyto': 'zzv4Bf50RW', 'signatures': ['ICLR.cc/2024/Conference/Submission1647/Reviewer_jP4i'], 'nonreaders': [], 'readers': ['everyone'], 'writers': ['ICLR.cc/2024/Conference', 'ICLR.cc/2024/Conference/Submission1647/Reviewer_jP4i'], 'content': {'summary': {'value': '1) This paper proposes a self-supervised method to find semantically corresponding points for a point cloud pair;\\n\\n2）The main idea is to decouple a point cloud feature learning process into a SO(3)-equivariant global shape descriptor and dynamic SO(3)-invariant point-wise local shape transforms;\\n\\n3) Experiments on the KeypointNet dataset show the effectiveness of the proposed method.'}, 'soundness': {'value': '3 good'}, 'presentation': {'value': '3 good'}, 'contribution': {'value': '2 fair'}, 'strengths': {'value': '1) This paper is generally well-written;\\n\\n2) The idea of factorizing point cloud descriptors into SO(3)-equivariant global shape descriptor and dynamic SO(3)-invariant\\npoint-wise local shape transforms seems to be novel;\\n\\n3) Experimental results are good.'}, 'weaknesses': {'value': \"1) The main weakness of this paper could be all experiments are performed on synthetic datasets, with simple point cloud. It's good for authors' to show some examples/experiments on real-world datasets. For example, the 3Dmatch dataset. \\n\\n2) Since the proposed method can estimate dense correspondences, I wonder whether the proposed method can be used to estimate the relative rotation/translation for a point cloud pair. For example, the estimated dense correspondences can be fed to an ICP method to estimate the relative rotation/translation. \\n\\n3) The running time and GPU memory cost is blurry for me;\\n\\n4) Please compare the proposed method with more recent papers, e.g., [SC3K: Self-supervised and Coherent 3D Keypoints Estimation\\nfrom Rotated, Noisy, and Decimated Point Cloud Data].\"}, 'questions': {'value': 'Please refer to the weaknesses.'}, 'flag_for_ethics_review': {'value': ['No ethics review needed.']}, 'rating': {'value': '5: marginally below the acceptance threshold'}, 'confidence': {'value': '4: You are confident in your assessment, but not absolutely certain. It is unlikely, but not impossible, that you did not understand some parts of the submission or that you are unfamiliar with some pieces of related work.'}, 'code_of_conduct': {'value': 'Yes'}}, 'number': 2, 'invitations': ['ICLR.cc/2024/Conference/Submission1647/-/Official_Review', 'ICLR.cc/2024/Conference/-/Edit'], 'domain': 'ICLR.cc/2024/Conference', 'tcdate': 1698652503617, 'cdate': 1698652503617, 'tmdate': 1699636093190, 'mdate': 1699636093190, 'license': 'CC BY 4.0', 'version': 2}\n",
      "{'id': 'NLfuL11uwO', 'forum': 'zzv4Bf50RW', 'replyto': 'zzv4Bf50RW', 'signatures': ['ICLR.cc/2024/Conference/Submission1647/Reviewer_wiS9'], 'nonreaders': [], 'readers': ['everyone'], 'writers': ['ICLR.cc/2024/Conference', 'ICLR.cc/2024/Conference/Submission1647/Reviewer_wiS9'], 'content': {'summary': {'value': 'This paper introduces LSTNet, which leverages an SO(3)-equivariant encoder-decoder architecture(Vector Neuron Networks, VNNs) and proposes a novel function called local shape transform to further transform the learned features. The proposed method is validated on both the 3D keypoint transfer and part segmentation label transformer tasks.'}, 'soundness': {'value': '2 fair'}, 'presentation': {'value': '2 fair'}, 'contribution': {'value': '2 fair'}, 'strengths': {'value': '1. The idea of cross-reconstruction for generating inter-object correspondences in a self-supervised way is interesting;\\n\\n2. The overall writing is good and the methodology part is well-organized and easy to follow.'}, 'weaknesses': {'value': '1. The novelty of this work seems insufficient for ICLR. The whole pipeline heavily relies on VNNs and the main contribution I personally consider is the local shape transform and the self-supervised mechanism for correspondences.\\n\\n2. Regarding the local shape transform:\\n   2.1. From 3.1.1, the SO(3)-invariant output is $\\\\mathbf{V}\\\\mathbf{U}^T \\\\in \\\\mathbb{R}^{C \\\\times C}$, while in 3.1.2, the obtained SO(3)-invariant features $\\\\mathbf{V} \\\\in \\\\mathbb{R}^{C^\\\\prime \\\\times 3 \\\\times N}$ have a different shape;\\n\\n   2.2 The authors claimed that the local shape transform transforms the global features to local ones. Regarding this, I have two questions. \\n\\n      2.2.1 First, why are the features obtained by the Encoder global? They are generated by a DGCNN-based VNN, but DGCNN is not guaranteed to capture the global context, as it is graph-based and really depends on the number of layers together with the number of rings of each layer. \\n\\n      2.2.2 Second, the so-called local shape transform is predicted by a multi-layer perception from some SO(3)-invariant features that obtained from the input. Why after transforming the \"global\" features by such a mechanism, the features turn to \"local\"? I cannot see any specific design that enables it. It should be further explained. (I personally do not think so)\\n\\n3. Regarding the experiments:\\n    3.1 The experiments are only conducted on synthetic data, which cannot support the proposed method can work for real applications. I think it would be better to have additional real-data experiments;\\n\\n     3.2 As this paper also targets on correspondence estimation, whose typical downstream task is pose estimation. Therefore, I consider it worthwhile to also conduct experiments on tasks of 6D pose estimation or point cloud registration (there you always use real data), to further validate the estimated correspondences.\\n\\n    3.3 In Tab.1, only CPAE proposed in 2021 is used as the baseline. Some recent methods, e.g., [1], should also be included. Otherwise the results are not convincing at all (only compared to a single baseline which was proposed years ago). And it seems CPAE is the only baseline method for all the experiments. More baselines are required on both tasks.\\n\\n   3.4 The method is claimed to generate SO(3)-invariant correspondences. However, in Tab. 1, even on the synthetic data, the I/SO(3) and SO(3)/SO(3) experiments perform unsimilarly (I would expect to have similar results per category, as it is on synthetic and clean data). Could this be explained?\\n\\n4. For the SO(3)-equivariant and -invariant methods, some works for point cloud registration [2, 3, 4, 5] should also be discussed.\\n---------------------------------------------\\n[1]. Zohaib et al. SC3K: Self-supervised and Coherent 3D Keypoints Estimation from Rotated, Noisy, and Decimated Point Cloud Data, ICCV 2023;\\n\\n[2]. Dent et al. PPF-FoldNet: Unsupervised Learning of Rotation Invariant 3D Local Descriptors, ECCV 2018\\n\\n[3]. Ao et al. SpinNet: Learning a General Surface Descriptor for 3D Point Cloud Registration, CVPR 2021\\n\\n[4]. Wang et al. You Only Hypothesize Once: Point Cloud Registration with Rotation-equivariant Descriptors, ACM MM 2022\\n\\n[5]. Yu et al. Rotation-Invariant Transformer for Point Cloud Matching, CVPR 2023'}, 'questions': {'value': 'See weaknesses.'}, 'flag_for_ethics_review': {'value': ['No ethics review needed.']}, 'rating': {'value': '3: reject, not good enough'}, 'confidence': {'value': '4: You are confident in your assessment, but not absolutely certain. It is unlikely, but not impossible, that you did not understand some parts of the submission or that you are unfamiliar with some pieces of related work.'}, 'code_of_conduct': {'value': 'Yes'}, 'first_time_reviewer': {'value': 'Yes', 'readers': ['ICLR.cc/2024/Conference/Program_Chairs', 'ICLR.cc/2024/Conference/Submission1647/Senior_Area_Chairs', 'ICLR.cc/2024/Conference/Submission1647/Area_Chairs', 'ICLR.cc/2024/Conference/Submission1647/Reviewer_wiS9']}}, 'number': 3, 'invitations': ['ICLR.cc/2024/Conference/Submission1647/-/Official_Review', 'ICLR.cc/2024/Conference/-/Edit'], 'domain': 'ICLR.cc/2024/Conference', 'tcdate': 1698706547448, 'cdate': 1698706547448, 'tmdate': 1699636093122, 'mdate': 1699636093122, 'license': 'CC BY 4.0', 'version': 2}\n",
      "{'id': 'PUauntqQsB', 'forum': 'zzv4Bf50RW', 'replyto': 'zzv4Bf50RW', 'signatures': ['ICLR.cc/2024/Conference/Submission1647/Reviewer_a6Ps'], 'nonreaders': [], 'readers': ['everyone'], 'writers': ['ICLR.cc/2024/Conference', 'ICLR.cc/2024/Conference/Submission1647/Reviewer_a6Ps'], 'content': {'summary': {'value': 'This paper attempts to register point cloud properties to their templates without precise correspondences and exact shape matching. To achieve this, the authors trained a local shape transform (LST) network that produces SO(3) invariant correspondences. The training is self-supervised. The experimental results on ShapeNet look nice.'}, 'soundness': {'value': '3 good'}, 'presentation': {'value': '3 good'}, 'contribution': {'value': '3 good'}, 'strengths': {'value': '- Valid motivation. Unlike the abused topic, vanilla point cloud registration, the motivation stands and could potentially benefit practical usages.\\n- The SO(3)-invariant network design intrinsically ensures robustness against rotations.\\n- The joint usage of a global descriptor and a local descriptor makes sense and may help with classification and recognition directly.\\n- The self-supervision scheme looks plausible by self and cross-reconstruction.'}, 'weaknesses': {'value': 'My major concern is with the experimental setup. While the experiments on ShapeNet is common in the community and shows good result, I am in general doubtful whether such an approach could be really applied to the real world. \\nIn motivation, the authors talk about usage in vision, graphics, and robotics. In vision and robotics, we are interested in fitting real-world scans to templates (e.g. [Scan2CAD, CVPR 2019]), where in most cases, only noisy, partial, and sparse point clouds are provided. The authors do not have experiments or discussions in such cases. \\n\\nThe authors also take groundtruth keypoints and semantic segmentations from datasets for the experiments. In the real-world, however, obtaining such accurate high-level semantic information already requires a deep understanding of the point cloud, and its segmentation backbone may already be SO(3) invariant. This impairs the strength that the authors proposed.'}, 'questions': {'value': 'Following my points in the \"weaknesses\" section, I am curious about several relevant problems in the practical setup (i.e., scan to model). \\n1. Would SO(3) invariance be sufficient? Do we need SE(3) or even Sim(3) invariance, if we cannot easily normalize the input due to the noise and sparsity? \\n2. Will the network still be functional if the density distributions are different across input and output? \\n3. Will it work out of the 16-category domain? Do we need more training data, or would it work out-of-box?\\n4. Would non-gt and/or biased key points and semantic parts be transferred properly?\\n\\nIt would be nice if the authors could conduct a minimal set of experiments in the real-world setup (e.g., extract a reconstruction from a ScanNet model and attempt to apply keypoint/semantic part transfer). Otherwise, it would be good to see a justification that this paper itself is an inevitable intermediate step toward real-world usage, and what can be done to further extend it.'}, 'flag_for_ethics_review': {'value': ['No ethics review needed.']}, 'rating': {'value': '5: marginally below the acceptance threshold'}, 'confidence': {'value': '4: You are confident in your assessment, but not absolutely certain. It is unlikely, but not impossible, that you did not understand some parts of the submission or that you are unfamiliar with some pieces of related work.'}, 'code_of_conduct': {'value': 'Yes'}, 'first_time_reviewer': {'value': 'Yes', 'readers': ['ICLR.cc/2024/Conference/Program_Chairs', 'ICLR.cc/2024/Conference/Submission1647/Senior_Area_Chairs', 'ICLR.cc/2024/Conference/Submission1647/Area_Chairs', 'ICLR.cc/2024/Conference/Submission1647/Reviewer_a6Ps']}}, 'number': 4, 'invitations': ['ICLR.cc/2024/Conference/Submission1647/-/Official_Review', 'ICLR.cc/2024/Conference/-/Edit'], 'domain': 'ICLR.cc/2024/Conference', 'tcdate': 1698768293694, 'cdate': 1698768293694, 'tmdate': 1699636092942, 'mdate': 1699636092942, 'license': 'CC BY 4.0', 'version': 2}\n",
      "{'id': 'Upm4GL7iRr', 'forum': 'zzv4Bf50RW', 'replyto': 'zzv4Bf50RW', 'signatures': ['ICLR.cc/2024/Conference/Submission1647/Reviewer_Frem'], 'nonreaders': [], 'readers': ['everyone'], 'writers': ['ICLR.cc/2024/Conference', 'ICLR.cc/2024/Conference/Submission1647/Reviewer_Frem'], 'content': {'summary': {'value': 'This paper presents a method of learning dense 3D correspondence between shapes in a self-supervised manner. Specifically, it is built on an existing SO(3)-equivariant representation. The input point clouds are independently encoded to SO(3)-equivariant global shape descriptor Z and dynamic SO(3)-invariant point-wise local shape transforms. Then the network is trained via penalizing errors in self- and cross- reconstructions via the decoder. The experiment validates the effectiveness of the proposed method.'}, 'soundness': {'value': '3 good'}, 'presentation': {'value': '3 good'}, 'contribution': {'value': '2 fair'}, 'strengths': {'value': '1. The paper is in general well organized and easy to follow. \\n2. The proposed method is straightforward and shown to be effective on the test data.'}, 'weaknesses': {'value': \"1. The main issue of the proposed method lies in the experimental evaluation. Only one learned-based method is adopted for comparison in the main paper on a rather simple dataset. More methods including some traditional methods should be also evaluated for better comparison. The experiment on the real dataset should be also provided to show the robustness of the proposed method. \\n2. From Fig. 6 in the supplementary, we can see that the performance of the proposed method on the I/I scenario is much worse than the SOTA method. More analysis of the drop of performance should be given. Moreover, the performance of different methods with different rotation angles should be provided for better comparison.\\n3. How about the performance of other methods with a rough alignment of the initial shape? If a rough alignment is enough for the existing methods, why should we learn SO(3)-invariant correspondence in an end-to-end manner?\\n4. The whole method is mainly built upon the existing SO(3)-equivariant representation. The main contribution lies in introducing this representation to the specific task. I didn't get too much novel insight in terms of network design.\"}, 'questions': {'value': 'Please refer to the Weaknees part.'}, 'flag_for_ethics_review': {'value': ['No ethics review needed.']}, 'rating': {'value': '5: marginally below the acceptance threshold'}, 'confidence': {'value': '4: You are confident in your assessment, but not absolutely certain. It is unlikely, but not impossible, that you did not understand some parts of the submission or that you are unfamiliar with some pieces of related work.'}, 'code_of_conduct': {'value': 'Yes'}}, 'number': 5, 'invitations': ['ICLR.cc/2024/Conference/Submission1647/-/Official_Review', 'ICLR.cc/2024/Conference/-/Edit'], 'domain': 'ICLR.cc/2024/Conference', 'tcdate': 1699350072271, 'cdate': 1699350072271, 'tmdate': 1699636092872, 'mdate': 1699636092872, 'license': 'CC BY 4.0', 'version': 2}\n"
     ]
    }
   ],
   "source": [
    "for note in submissions[0].details[\"directReplies\"]:\n",
    "    print(note)"
   ]
  },
  {
   "cell_type": "code",
   "execution_count": 27,
   "metadata": {},
   "outputs": [
    {
     "name": "stdout",
     "output_type": "stream",
     "text": [
      "dict_keys(['title', 'keywords', 'TLDR', 'abstract', 'primary_area', 'code_of_ethics', 'submission_guidelines', 'anonymous_url', 'no_acknowledgement_section', 'venue', 'venueid', 'pdf', '_bibtex'])\n"
     ]
    }
   ],
   "source": [
    "print(submissions[0].content.keys())"
   ]
  },
  {
   "cell_type": "code",
   "execution_count": 55,
   "metadata": {},
   "outputs": [
    {
     "name": "stdout",
     "output_type": "stream",
     "text": [
      "/pdf/a251fcea8ea8b2cae3c0c9a7c69287aa2619480c.pdf\n"
     ]
    }
   ],
   "source": [
    "print(submissions[0].content['pdf']['value'])"
   ]
  },
  {
   "cell_type": "code",
   "execution_count": null,
   "metadata": {},
   "outputs": [],
   "source": [
    "i=0\n",
    "for sb in submissions:\n",
    "    keywords=sb.content['keywords']['value']\n",
    "    if any(['parameter'in key.lower() or 'effic'in key.lower() or 'peft' in key.lower() for key in keywords]):\n",
    "        if any(['3d' in key.lower() for key in keywords]) == 0:\n",
    "            i+=1\n",
    "            print(keywords)\n",
    "print(i)"
   ]
  },
  {
   "cell_type": "code",
   "execution_count": 52,
   "metadata": {},
   "outputs": [],
   "source": [
    "with open('demo.md','w+') as f:\n",
    "    f.write('# 1'+'\\n')\n",
    "    f.write('### 2'+'\\n')\n",
    "    f.write('#### 3'+'\\n')\n",
    "    f.write('### [PDF]('+'https://mac.xmu.edu.cn/'+')\\n')"
   ]
  },
  {
   "cell_type": "code",
   "execution_count": 71,
   "metadata": {},
   "outputs": [],
   "source": [
    "class mdsolver:\n",
    "    def __init__(self,filename):\n",
    "        self.f = open(filename, \"w\")\n",
    "    \n",
    "    def __del__(self):\n",
    "        self.f.close\n",
    "        \n",
    "    def write_title(self,title):\n",
    "        self.f.write('## '+title+'\\n')\n",
    "        \n",
    "    def write_key(self,keys):\n",
    "        for key in keys:\n",
    "            self.f.write('### Keywords:'+key+'\\n')\n",
    "        \n",
    "    def write_link(self,link):\n",
    "        self.f.write('### [PDF](https://openreview.net'+link+')\\n')\n",
    "        \n",
    "    def write_abs(self,abs):\n",
    "        self.f.write('  ```'+abs+'```\\n')\n",
    "    \n",
    "    # def write_from_opnote(self,sb):\n",
    "    #     self.write_title(sb.content['title']['value'])\n",
    "    #     self.write_key(sb.content['keywords']['value'])\n",
    "    #     self.write_link(sb.content['pdf']['value'])\n",
    "    #     self.write_abs(sb.content['abstract']['value'])\n",
    "        \n",
    "    def write_from_opnote(self,sb):\n",
    "        title=sb.content['title']['value']\n",
    "        keys=sb.content['keywords']['value']\n",
    "        pdf=sb.content['pdf']['value']\n",
    "        abs=sb.content['abstract']['value']\n",
    "        self.f.write(f'## [{title}]({pdf}) [PDF]({pdf})\\n')\n",
    "        key_s='   '.join(keys)\n",
    "        self.f.write(f'#### Keywords:  {key_s}\\n')\n",
    "        self.f.write('  ```'+abs+'```\\n')\n",
    "        time.sleep(0.1)\n",
    "        \n",
    "        \n",
    "op=mdsolver('demo.md')\n",
    "op.write_from_opnote(submissions[0])\n"
   ]
  },
  {
   "cell_type": "code",
   "execution_count": 5,
   "metadata": {},
   "outputs": [
    {
     "name": "stderr",
     "output_type": "stream",
     "text": [
      "  2%|▏         | 150/10000 [00:15<16:38,  9.87it/s]\n"
     ]
    },
    {
     "ename": "KeyboardInterrupt",
     "evalue": "",
     "output_type": "error",
     "traceback": [
      "\u001b[0;31m---------------------------------------------------------------------------\u001b[0m",
      "\u001b[0;31mKeyboardInterrupt\u001b[0m                         Traceback (most recent call last)",
      "\u001b[1;32m/home/zxy/Paper_grabber/Openreview/debugger.ipynb 单元格 9\u001b[0m line \u001b[0;36m3\n\u001b[1;32m      <a href='vscode-notebook-cell://ssh-remote%2B7b22686f73744e616d65223a224d41435f32335f41383030227d/home/zxy/Paper_grabber/Openreview/debugger.ipynb#X11sdnNjb2RlLXJlbW90ZQ%3D%3D?line=0'>1</a>\u001b[0m \u001b[39mfrom\u001b[39;00m \u001b[39mtqdm\u001b[39;00m \u001b[39mimport\u001b[39;00m tqdm\n\u001b[1;32m      <a href='vscode-notebook-cell://ssh-remote%2B7b22686f73744e616d65223a224d41435f32335f41383030227d/home/zxy/Paper_grabber/Openreview/debugger.ipynb#X11sdnNjb2RlLXJlbW90ZQ%3D%3D?line=1'>2</a>\u001b[0m \u001b[39mfor\u001b[39;00m i \u001b[39min\u001b[39;00m tqdm(\u001b[39mrange\u001b[39m(\u001b[39m10000\u001b[39m)):\n\u001b[0;32m----> <a href='vscode-notebook-cell://ssh-remote%2B7b22686f73744e616d65223a224d41435f32335f41383030227d/home/zxy/Paper_grabber/Openreview/debugger.ipynb#X11sdnNjb2RlLXJlbW90ZQ%3D%3D?line=2'>3</a>\u001b[0m     time\u001b[39m.\u001b[39;49msleep(\u001b[39m0.1\u001b[39;49m)\n",
      "\u001b[0;31mKeyboardInterrupt\u001b[0m: "
     ]
    }
   ],
   "source": [
    "from tqdm import tqdm\n",
    "for i in tqdm(range(10000)):\n",
    "    time.sleep(0.1)"
   ]
  }
 ],
 "metadata": {
  "kernelspec": {
   "display_name": "ssfn",
   "language": "python",
   "name": "python3"
  },
  "language_info": {
   "codemirror_mode": {
    "name": "ipython",
    "version": 3
   },
   "file_extension": ".py",
   "mimetype": "text/x-python",
   "name": "python",
   "nbconvert_exporter": "python",
   "pygments_lexer": "ipython3",
   "version": "3.10.0"
  }
 },
 "nbformat": 4,
 "nbformat_minor": 2
}
