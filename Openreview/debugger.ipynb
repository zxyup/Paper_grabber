{
 "cells": [
  {
   "cell_type": "code",
   "execution_count": 4,
   "metadata": {},
   "outputs": [],
   "source": [
    "import openreview\n",
    "import time\n",
    "client = openreview.Client(baseurl='https://api2.openreview.net')"
   ]
  },
  {
   "cell_type": "code",
   "execution_count": 9,
   "metadata": {},
   "outputs": [
    {
     "name": "stderr",
     "output_type": "stream",
     "text": [
      "Getting V1 Notes: 100%|█████████▉| 7296/7304 [00:18<00:00, 390.74it/s]"
     ]
    },
    {
     "name": "stdout",
     "output_type": "stream",
     "text": [
      "7304\n"
     ]
    },
    {
     "name": "stderr",
     "output_type": "stream",
     "text": [
      "\n"
     ]
    }
   ],
   "source": [
    "# 会议名称，建议先在官网上查看下收录会议该年的论文是否已经放出\n",
    "conference_name = 'ICLR'\n",
    "# 会议年份\n",
    "conference_year = '2024'\n",
    "\n",
    "# conference_name = 'NeurIPS'\n",
    "# conference_year = '2022'\n",
    "\n",
    "conference_id=conference_name + '.cc/' + conference_year\n",
    "# submissions = client.get_all_notes(\n",
    "#         invitation=conference_id + '/Conference/-/Submission', details='directReplies')\n",
    "submissions = client.get_all_notes(invitation='ICLR.cc/2024/Conference/-/Submission', details='directReplies')\n",
    "print(len(submissions))"
   ]
  },
  {
   "cell_type": "code",
   "execution_count": 23,
   "metadata": {},
   "outputs": [
    {
     "name": "stdout",
     "output_type": "stream",
     "text": [
      "{'id': 'aU4SaZOeh4', 'forum': 'zzv4Bf50RW', 'replyto': 'zzv4Bf50RW', 'signatures': ['ICLR.cc/2024/Conference/Submission1647/Reviewer_eS3u'], 'nonreaders': [], 'readers': ['everyone'], 'writers': ['ICLR.cc/2024/Conference', 'ICLR.cc/2024/Conference/Submission1647/Reviewer_eS3u'], 'content': {'summary': {'value': 'This work proposes LSTNet, a self-supervised method to establish reliable 3D dense correspondences irrespective of the input point clouds’ rotational orientation.\\n\\nSpecifically, LSTNet learns to formulate SO(3)-invariant local shape transform for each point in a dynamic, input-dependent manner. Each point-wise local shape transform can map the SO(3)-equivariant global shape descriptor of the input shape to a local shape descriptor, which is passed to the decoder to reconstruct the shape and pose of the input point cloud. \\n\\nThe proposed self-supervised training pipeline encourages semantically corresponding points from different shape instances to be mapped to similar local shape descriptors, enabling LSTNet to establish dense point-wise correspondences via nearest point pairs between cross-reconstructed point clouds.'}, 'soundness': {'value': '3 good'}, 'presentation': {'value': '2 fair'}, 'contribution': {'value': '3 good'}, 'strengths': {'value': 'The self- and cross-reconstruction training strategy is simple yet effective. \\n\\nLSTNet demonstrates state-of-the-art performance on 3D semantic matching when evaluated on the KeypointNet dataset and part segmentation label transfer when evaluated on the ShapeNet dataset.'}, 'weaknesses': {'value': 'The performance of aligned shape pairs under the setting of I/I shows that other methods, such as CPAE, are much better than LSTNet.'}, 'questions': {'value': 'The reason why other methods are much better than LSTNet under the setting of I/I should be clarified.\\n\\nLack of limitations.'}, 'flag_for_ethics_review': {'value': ['No ethics review needed.']}, 'rating': {'value': '6: marginally above the acceptance threshold'}, 'confidence': {'value': '2: You are willing to defend your assessment, but it is quite likely that you did not understand the central parts of the submission or that you are unfamiliar with some pieces of related work. Math/other details were not carefully checked.'}, 'code_of_conduct': {'value': 'Yes'}, 'first_time_reviewer': {'value': 'Yes', 'readers': ['ICLR.cc/2024/Conference/Program_Chairs', 'ICLR.cc/2024/Conference/Submission1647/Senior_Area_Chairs', 'ICLR.cc/2024/Conference/Submission1647/Area_Chairs', 'ICLR.cc/2024/Conference/Submission1647/Reviewer_eS3u']}}, 'number': 1, 'invitations': ['ICLR.cc/2024/Conference/Submission1647/-/Official_Review', 'ICLR.cc/2024/Conference/-/Edit'], 'domain': 'ICLR.cc/2024/Conference', 'tcdate': 1698243150596, 'cdate': 1698243150596, 'tmdate': 1699636093263, 'mdate': 1699636093263, 'license': 'CC BY 4.0', 'version': 2}\n",
      "{'id': 'wKVoAVtxek', 'forum': 'zzv4Bf50RW', 'replyto': 'zzv4Bf50RW', 'signatures': ['ICLR.cc/2024/Conference/Submission1647/Reviewer_jP4i'], 'nonreaders': [], 'readers': ['everyone'], 'writers': ['ICLR.cc/2024/Conference', 'ICLR.cc/2024/Conference/Submission1647/Reviewer_jP4i'], 'content': {'summary': {'value': '1) This paper proposes a self-supervised method to find semantically corresponding points for a point cloud pair;\\n\\n2）The main idea is to decouple a point cloud feature learning process into a SO(3)-equivariant global shape descriptor and dynamic SO(3)-invariant point-wise local shape transforms;\\n\\n3) Experiments on the KeypointNet dataset show the effectiveness of the proposed method.'}, 'soundness': {'value': '3 good'}, 'presentation': {'value': '3 good'}, 'contribution': {'value': '2 fair'}, 'strengths': {'value': '1) This paper is generally well-written;\\n\\n2) The idea of factorizing point cloud descriptors into SO(3)-equivariant global shape descriptor and dynamic SO(3)-invariant\\npoint-wise local shape transforms seems to be novel;\\n\\n3) Experimental results are good.'}, 'weaknesses': {'value': \"1) The main weakness of this paper could be all experiments are performed on synthetic datasets, with simple point cloud. It's good for authors' to show some examples/experiments on real-world datasets. For example, the 3Dmatch dataset. \\n\\n2) Since the proposed method can estimate dense correspondences, I wonder whether the proposed method can be used to estimate the relative rotation/translation for a point cloud pair. For example, the estimated dense correspondences can be fed to an ICP method to estimate the relative rotation/translation. \\n\\n3) The running time and GPU memory cost is blurry for me;\\n\\n4) Please compare the proposed method with more recent papers, e.g., [SC3K: Self-supervised and Coherent 3D Keypoints Estimation\\nfrom Rotated, Noisy, and Decimated Point Cloud Data].\"}, 'questions': {'value': 'Please refer to the weaknesses.'}, 'flag_for_ethics_review': {'value': ['No ethics review needed.']}, 'rating': {'value': '5: marginally below the acceptance threshold'}, 'confidence': {'value': '4: You are confident in your assessment, but not absolutely certain. It is unlikely, but not impossible, that you did not understand some parts of the submission or that you are unfamiliar with some pieces of related work.'}, 'code_of_conduct': {'value': 'Yes'}}, 'number': 2, 'invitations': ['ICLR.cc/2024/Conference/Submission1647/-/Official_Review', 'ICLR.cc/2024/Conference/-/Edit'], 'domain': 'ICLR.cc/2024/Conference', 'tcdate': 1698652503617, 'cdate': 1698652503617, 'tmdate': 1699636093190, 'mdate': 1699636093190, 'license': 'CC BY 4.0', 'version': 2}\n",
      "{'id': 'NLfuL11uwO', 'forum': 'zzv4Bf50RW', 'replyto': 'zzv4Bf50RW', 'signatures': ['ICLR.cc/2024/Conference/Submission1647/Reviewer_wiS9'], 'nonreaders': [], 'readers': ['everyone'], 'writers': ['ICLR.cc/2024/Conference', 'ICLR.cc/2024/Conference/Submission1647/Reviewer_wiS9'], 'content': {'summary': {'value': 'This paper introduces LSTNet, which leverages an SO(3)-equivariant encoder-decoder architecture(Vector Neuron Networks, VNNs) and proposes a novel function called local shape transform to further transform the learned features. The proposed method is validated on both the 3D keypoint transfer and part segmentation label transformer tasks.'}, 'soundness': {'value': '2 fair'}, 'presentation': {'value': '2 fair'}, 'contribution': {'value': '2 fair'}, 'strengths': {'value': '1. The idea of cross-reconstruction for generating inter-object correspondences in a self-supervised way is interesting;\\n\\n2. The overall writing is good and the methodology part is well-organized and easy to follow.'}, 'weaknesses': {'value': '1. The novelty of this work seems insufficient for ICLR. The whole pipeline heavily relies on VNNs and the main contribution I personally consider is the local shape transform and the self-supervised mechanism for correspondences.\\n\\n2. Regarding the local shape transform:\\n   2.1. From 3.1.1, the SO(3)-invariant output is $\\\\mathbf{V}\\\\mathbf{U}^T \\\\in \\\\mathbb{R}^{C \\\\times C}$, while in 3.1.2, the obtained SO(3)-invariant features $\\\\mathbf{V} \\\\in \\\\mathbb{R}^{C^\\\\prime \\\\times 3 \\\\times N}$ have a different shape;\\n\\n   2.2 The authors claimed that the local shape transform transforms the global features to local ones. Regarding this, I have two questions. \\n\\n      2.2.1 First, why are the features obtained by the Encoder global? They are generated by a DGCNN-based VNN, but DGCNN is not guaranteed to capture the global context, as it is graph-based and really depends on the number of layers together with the number of rings of each layer. \\n\\n      2.2.2 Second, the so-called local shape transform is predicted by a multi-layer perception from some SO(3)-invariant features that obtained from the input. Why after transforming the \"global\" features by such a mechanism, the features turn to \"local\"? I cannot see any specific design that enables it. It should be further explained. (I personally do not think so)\\n\\n3. Regarding the experiments:\\n    3.1 The experiments are only conducted on synthetic data, which cannot support the proposed method can work for real applications. I think it would be better to have additional real-data experiments;\\n\\n     3.2 As this paper also targets on correspondence estimation, whose typical downstream task is pose estimation. Therefore, I consider it worthwhile to also conduct experiments on tasks of 6D pose estimation or point cloud registration (there you always use real data), to further validate the estimated correspondences.\\n\\n    3.3 In Tab.1, only CPAE proposed in 2021 is used as the baseline. Some recent methods, e.g., [1], should also be included. Otherwise the results are not convincing at all (only compared to a single baseline which was proposed years ago). And it seems CPAE is the only baseline method for all the experiments. More baselines are required on both tasks.\\n\\n   3.4 The method is claimed to generate SO(3)-invariant correspondences. However, in Tab. 1, even on the synthetic data, the I/SO(3) and SO(3)/SO(3) experiments perform unsimilarly (I would expect to have similar results per category, as it is on synthetic and clean data). Could this be explained?\\n\\n4. For the SO(3)-equivariant and -invariant methods, some works for point cloud registration [2, 3, 4, 5] should also be discussed.\\n---------------------------------------------\\n[1]. Zohaib et al. SC3K: Self-supervised and Coherent 3D Keypoints Estimation from Rotated, Noisy, and Decimated Point Cloud Data, ICCV 2023;\\n\\n[2]. Dent et al. PPF-FoldNet: Unsupervised Learning of Rotation Invariant 3D Local Descriptors, ECCV 2018\\n\\n[3]. Ao et al. SpinNet: Learning a General Surface Descriptor for 3D Point Cloud Registration, CVPR 2021\\n\\n[4]. Wang et al. You Only Hypothesize Once: Point Cloud Registration with Rotation-equivariant Descriptors, ACM MM 2022\\n\\n[5]. Yu et al. Rotation-Invariant Transformer for Point Cloud Matching, CVPR 2023'}, 'questions': {'value': 'See weaknesses.'}, 'flag_for_ethics_review': {'value': ['No ethics review needed.']}, 'rating': {'value': '3: reject, not good enough'}, 'confidence': {'value': '4: You are confident in your assessment, but not absolutely certain. It is unlikely, but not impossible, that you did not understand some parts of the submission or that you are unfamiliar with some pieces of related work.'}, 'code_of_conduct': {'value': 'Yes'}, 'first_time_reviewer': {'value': 'Yes', 'readers': ['ICLR.cc/2024/Conference/Program_Chairs', 'ICLR.cc/2024/Conference/Submission1647/Senior_Area_Chairs', 'ICLR.cc/2024/Conference/Submission1647/Area_Chairs', 'ICLR.cc/2024/Conference/Submission1647/Reviewer_wiS9']}}, 'number': 3, 'invitations': ['ICLR.cc/2024/Conference/Submission1647/-/Official_Review', 'ICLR.cc/2024/Conference/-/Edit'], 'domain': 'ICLR.cc/2024/Conference', 'tcdate': 1698706547448, 'cdate': 1698706547448, 'tmdate': 1699636093122, 'mdate': 1699636093122, 'license': 'CC BY 4.0', 'version': 2}\n",
      "{'id': 'PUauntqQsB', 'forum': 'zzv4Bf50RW', 'replyto': 'zzv4Bf50RW', 'signatures': ['ICLR.cc/2024/Conference/Submission1647/Reviewer_a6Ps'], 'nonreaders': [], 'readers': ['everyone'], 'writers': ['ICLR.cc/2024/Conference', 'ICLR.cc/2024/Conference/Submission1647/Reviewer_a6Ps'], 'content': {'summary': {'value': 'This paper attempts to register point cloud properties to their templates without precise correspondences and exact shape matching. To achieve this, the authors trained a local shape transform (LST) network that produces SO(3) invariant correspondences. The training is self-supervised. The experimental results on ShapeNet look nice.'}, 'soundness': {'value': '3 good'}, 'presentation': {'value': '3 good'}, 'contribution': {'value': '3 good'}, 'strengths': {'value': '- Valid motivation. Unlike the abused topic, vanilla point cloud registration, the motivation stands and could potentially benefit practical usages.\\n- The SO(3)-invariant network design intrinsically ensures robustness against rotations.\\n- The joint usage of a global descriptor and a local descriptor makes sense and may help with classification and recognition directly.\\n- The self-supervision scheme looks plausible by self and cross-reconstruction.'}, 'weaknesses': {'value': 'My major concern is with the experimental setup. While the experiments on ShapeNet is common in the community and shows good result, I am in general doubtful whether such an approach could be really applied to the real world. \\nIn motivation, the authors talk about usage in vision, graphics, and robotics. In vision and robotics, we are interested in fitting real-world scans to templates (e.g. [Scan2CAD, CVPR 2019]), where in most cases, only noisy, partial, and sparse point clouds are provided. The authors do not have experiments or discussions in such cases. \\n\\nThe authors also take groundtruth keypoints and semantic segmentations from datasets for the experiments. In the real-world, however, obtaining such accurate high-level semantic information already requires a deep understanding of the point cloud, and its segmentation backbone may already be SO(3) invariant. This impairs the strength that the authors proposed.'}, 'questions': {'value': 'Following my points in the \"weaknesses\" section, I am curious about several relevant problems in the practical setup (i.e., scan to model). \\n1. Would SO(3) invariance be sufficient? Do we need SE(3) or even Sim(3) invariance, if we cannot easily normalize the input due to the noise and sparsity? \\n2. Will the network still be functional if the density distributions are different across input and output? \\n3. Will it work out of the 16-category domain? Do we need more training data, or would it work out-of-box?\\n4. Would non-gt and/or biased key points and semantic parts be transferred properly?\\n\\nIt would be nice if the authors could conduct a minimal set of experiments in the real-world setup (e.g., extract a reconstruction from a ScanNet model and attempt to apply keypoint/semantic part transfer). Otherwise, it would be good to see a justification that this paper itself is an inevitable intermediate step toward real-world usage, and what can be done to further extend it.'}, 'flag_for_ethics_review': {'value': ['No ethics review needed.']}, 'rating': {'value': '5: marginally below the acceptance threshold'}, 'confidence': {'value': '4: You are confident in your assessment, but not absolutely certain. It is unlikely, but not impossible, that you did not understand some parts of the submission or that you are unfamiliar with some pieces of related work.'}, 'code_of_conduct': {'value': 'Yes'}, 'first_time_reviewer': {'value': 'Yes', 'readers': ['ICLR.cc/2024/Conference/Program_Chairs', 'ICLR.cc/2024/Conference/Submission1647/Senior_Area_Chairs', 'ICLR.cc/2024/Conference/Submission1647/Area_Chairs', 'ICLR.cc/2024/Conference/Submission1647/Reviewer_a6Ps']}}, 'number': 4, 'invitations': ['ICLR.cc/2024/Conference/Submission1647/-/Official_Review', 'ICLR.cc/2024/Conference/-/Edit'], 'domain': 'ICLR.cc/2024/Conference', 'tcdate': 1698768293694, 'cdate': 1698768293694, 'tmdate': 1699636092942, 'mdate': 1699636092942, 'license': 'CC BY 4.0', 'version': 2}\n",
      "{'id': 'Upm4GL7iRr', 'forum': 'zzv4Bf50RW', 'replyto': 'zzv4Bf50RW', 'signatures': ['ICLR.cc/2024/Conference/Submission1647/Reviewer_Frem'], 'nonreaders': [], 'readers': ['everyone'], 'writers': ['ICLR.cc/2024/Conference', 'ICLR.cc/2024/Conference/Submission1647/Reviewer_Frem'], 'content': {'summary': {'value': 'This paper presents a method of learning dense 3D correspondence between shapes in a self-supervised manner. Specifically, it is built on an existing SO(3)-equivariant representation. The input point clouds are independently encoded to SO(3)-equivariant global shape descriptor Z and dynamic SO(3)-invariant point-wise local shape transforms. Then the network is trained via penalizing errors in self- and cross- reconstructions via the decoder. The experiment validates the effectiveness of the proposed method.'}, 'soundness': {'value': '3 good'}, 'presentation': {'value': '3 good'}, 'contribution': {'value': '2 fair'}, 'strengths': {'value': '1. The paper is in general well organized and easy to follow. \\n2. The proposed method is straightforward and shown to be effective on the test data.'}, 'weaknesses': {'value': \"1. The main issue of the proposed method lies in the experimental evaluation. Only one learned-based method is adopted for comparison in the main paper on a rather simple dataset. More methods including some traditional methods should be also evaluated for better comparison. The experiment on the real dataset should be also provided to show the robustness of the proposed method. \\n2. From Fig. 6 in the supplementary, we can see that the performance of the proposed method on the I/I scenario is much worse than the SOTA method. More analysis of the drop of performance should be given. Moreover, the performance of different methods with different rotation angles should be provided for better comparison.\\n3. How about the performance of other methods with a rough alignment of the initial shape? If a rough alignment is enough for the existing methods, why should we learn SO(3)-invariant correspondence in an end-to-end manner?\\n4. The whole method is mainly built upon the existing SO(3)-equivariant representation. The main contribution lies in introducing this representation to the specific task. I didn't get too much novel insight in terms of network design.\"}, 'questions': {'value': 'Please refer to the Weaknees part.'}, 'flag_for_ethics_review': {'value': ['No ethics review needed.']}, 'rating': {'value': '5: marginally below the acceptance threshold'}, 'confidence': {'value': '4: You are confident in your assessment, but not absolutely certain. It is unlikely, but not impossible, that you did not understand some parts of the submission or that you are unfamiliar with some pieces of related work.'}, 'code_of_conduct': {'value': 'Yes'}}, 'number': 5, 'invitations': ['ICLR.cc/2024/Conference/Submission1647/-/Official_Review', 'ICLR.cc/2024/Conference/-/Edit'], 'domain': 'ICLR.cc/2024/Conference', 'tcdate': 1699350072271, 'cdate': 1699350072271, 'tmdate': 1699636092872, 'mdate': 1699636092872, 'license': 'CC BY 4.0', 'version': 2}\n"
     ]
    }
   ],
   "source": [
    "for note in submissions[0].details[\"directReplies\"]:\n",
    "    print(note)"
   ]
  },
  {
   "cell_type": "code",
   "execution_count": 27,
   "metadata": {},
   "outputs": [
    {
     "name": "stdout",
     "output_type": "stream",
     "text": [
      "dict_keys(['title', 'keywords', 'TLDR', 'abstract', 'primary_area', 'code_of_ethics', 'submission_guidelines', 'anonymous_url', 'no_acknowledgement_section', 'venue', 'venueid', 'pdf', '_bibtex'])\n"
     ]
    }
   ],
   "source": [
    "print(submissions[0].content.keys())"
   ]
  },
  {
   "cell_type": "code",
   "execution_count": 55,
   "metadata": {},
   "outputs": [
    {
     "name": "stdout",
     "output_type": "stream",
     "text": [
      "/pdf/a251fcea8ea8b2cae3c0c9a7c69287aa2619480c.pdf\n"
     ]
    }
   ],
   "source": [
    "print(submissions[0].content['pdf']['value'])"
   ]
  },
  {
   "cell_type": "code",
   "execution_count": null,
   "metadata": {},
   "outputs": [],
   "source": [
    "i=0\n",
    "for sb in submissions:\n",
    "    keywords=sb.content['keywords']['value']\n",
    "    if any(['parameter'in key.lower() or 'effic'in key.lower() or 'peft' in key.lower() for key in keywords]):\n",
    "        if any(['3d' in key.lower() for key in keywords]) == 0:\n",
    "            i+=1\n",
    "            print(keywords)\n",
    "print(i)"
   ]
  },
  {
   "cell_type": "code",
   "execution_count": 52,
   "metadata": {},
   "outputs": [],
   "source": [
    "with open('demo.md','w+') as f:\n",
    "    f.write('# 1'+'\\n')\n",
    "    f.write('### 2'+'\\n')\n",
    "    f.write('#### 3'+'\\n')\n",
    "    f.write('### [PDF]('+'https://mac.xmu.edu.cn/'+')\\n')"
   ]
  },
  {
   "cell_type": "code",
   "execution_count": 71,
   "metadata": {},
   "outputs": [],
   "source": [
    "class mdsolver:\n",
    "    def __init__(self,filename):\n",
    "        self.f = open(filename, \"w\")\n",
    "    \n",
    "    def __del__(self):\n",
    "        self.f.close\n",
    "        \n",
    "    def write_title(self,title):\n",
    "        self.f.write('## '+title+'\\n')\n",
    "        \n",
    "    def write_key(self,keys):\n",
    "        for key in keys:\n",
    "            self.f.write('### Keywords:'+key+'\\n')\n",
    "        \n",
    "    def write_link(self,link):\n",
    "        self.f.write('### [PDF](https://openreview.net'+link+')\\n')\n",
    "        \n",
    "    def write_abs(self,abs):\n",
    "        self.f.write('  ```'+abs+'```\\n')\n",
    "    \n",
    "    # def write_from_opnote(self,sb):\n",
    "    #     self.write_title(sb.content['title']['value'])\n",
    "    #     self.write_key(sb.content['keywords']['value'])\n",
    "    #     self.write_link(sb.content['pdf']['value'])\n",
    "    #     self.write_abs(sb.content['abstract']['value'])\n",
    "        \n",
    "    def write_from_opnote(self,sb):\n",
    "        title=sb.content['title']['value']\n",
    "        keys=sb.content['keywords']['value']\n",
    "        pdf=sb.content['pdf']['value']\n",
    "        abs=sb.content['abstract']['value']\n",
    "        self.f.write(f'## [{title}]({pdf}) [PDF]({pdf})\\n')\n",
    "        key_s='   '.join(keys)\n",
    "        self.f.write(f'#### Keywords:  {key_s}\\n')\n",
    "        self.f.write('  ```'+abs+'```\\n')\n",
    "        time.sleep(0.1)\n",
    "        \n",
    "        \n",
    "op=mdsolver('demo.md')\n",
    "op.write_from_opnote(submissions[0])\n"
   ]
  },
  {
   "cell_type": "code",
   "execution_count": 5,
   "metadata": {},
   "outputs": [
    {
     "name": "stderr",
     "output_type": "stream",
     "text": [
      "  2%|▏         | 150/10000 [00:15<16:38,  9.87it/s]\n"
     ]
    },
    {
     "ename": "KeyboardInterrupt",
     "evalue": "",
     "output_type": "error",
     "traceback": [
      "\u001b[0;31m---------------------------------------------------------------------------\u001b[0m",
      "\u001b[0;31mKeyboardInterrupt\u001b[0m                         Traceback (most recent call last)",
      "\u001b[1;32m/home/zxy/Paper_grabber/Openreview/debugger.ipynb 单元格 9\u001b[0m line \u001b[0;36m3\n\u001b[1;32m      <a href='vscode-notebook-cell://ssh-remote%2B7b22686f73744e616d65223a224d41435f32335f41383030227d/home/zxy/Paper_grabber/Openreview/debugger.ipynb#X11sdnNjb2RlLXJlbW90ZQ%3D%3D?line=0'>1</a>\u001b[0m \u001b[39mfrom\u001b[39;00m \u001b[39mtqdm\u001b[39;00m \u001b[39mimport\u001b[39;00m tqdm\n\u001b[1;32m      <a href='vscode-notebook-cell://ssh-remote%2B7b22686f73744e616d65223a224d41435f32335f41383030227d/home/zxy/Paper_grabber/Openreview/debugger.ipynb#X11sdnNjb2RlLXJlbW90ZQ%3D%3D?line=1'>2</a>\u001b[0m \u001b[39mfor\u001b[39;00m i \u001b[39min\u001b[39;00m tqdm(\u001b[39mrange\u001b[39m(\u001b[39m10000\u001b[39m)):\n\u001b[0;32m----> <a href='vscode-notebook-cell://ssh-remote%2B7b22686f73744e616d65223a224d41435f32335f41383030227d/home/zxy/Paper_grabber/Openreview/debugger.ipynb#X11sdnNjb2RlLXJlbW90ZQ%3D%3D?line=2'>3</a>\u001b[0m     time\u001b[39m.\u001b[39;49msleep(\u001b[39m0.1\u001b[39;49m)\n",
      "\u001b[0;31mKeyboardInterrupt\u001b[0m: "
     ]
    }
   ],
   "source": [
    "from tqdm import tqdm\n",
    "for i in tqdm(range(10000)):\n",
    "    time.sleep(0.1)"
   ]
  }
 ],
 "metadata": {
  "kernelspec": {
   "display_name": "ssfn",
   "language": "python",
   "name": "python3"
  },
  "language_info": {
   "codemirror_mode": {
    "name": "ipython",
    "version": 3
   },
   "file_extension": ".py",
   "mimetype": "text/x-python",
   "name": "python",
   "nbconvert_exporter": "python",
   "pygments_lexer": "ipython3",
   "version": "3.10.0"
  }
 },
 "nbformat": 4,
 "nbformat_minor": 2
}
